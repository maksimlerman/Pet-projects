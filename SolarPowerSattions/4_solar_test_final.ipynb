{
 "cells": [
  {
   "cell_type": "markdown",
   "metadata": {
    "toc": true
   },
   "source": [
    "<h1>Table of Contents<span class=\"tocSkip\"></span></h1>\n",
    "<div class=\"toc\"><ul class=\"toc-item\"><li><span><a href=\"#Прогозирование-методом-LSTM\" data-toc-modified-id=\"Прогозирование-методом-LSTM-1\"><span class=\"toc-item-num\">1&nbsp;&nbsp;</span>Прогозирование методом LSTM</a></span></li><li><span><a href=\"#Прогнозирование-методом-Random-Forest\" data-toc-modified-id=\"Прогнозирование-методом-Random-Forest-2\"><span class=\"toc-item-num\">2&nbsp;&nbsp;</span>Прогнозирование методом Random Forest</a></span></li><li><span><a href=\"#Вывод:\" data-toc-modified-id=\"Вывод:-3\"><span class=\"toc-item-num\">3&nbsp;&nbsp;</span>Вывод:</a></span></li></ul></div>"
   ]
  },
  {
   "cell_type": "markdown",
   "metadata": {},
   "source": [
    "# <p style='text-align:center; color:blue'> Прогнозирование нагрузки группы солнечных электростанций Оренбургской энергосистемы </p><a class=\"tocSkip\">\n",
    "    \n",
    "## <p style='text-align:center; color:blue'> Часть 4. Сравнение работы моделей RFR и LSTM на новых данных </p><a class=\"tocSkip\">"
   ]
  },
  {
   "cell_type": "code",
   "execution_count": 1,
   "metadata": {},
   "outputs": [],
   "source": [
    "# загрузка стандартных библиотек для обработки и визуализации данных\n",
    "\n",
    "import warnings\n",
    "warnings.filterwarnings('ignore')\n",
    "warnings.simplefilter('ignore')\n",
    "\n",
    "import pandas as pd\n",
    "import numpy as np\n",
    "import seaborn as sns\n",
    "import matplotlib.pyplot as plt\n",
    "\n",
    "from datetime import datetime, timedelta\n",
    "\n",
    "from pandas import Series\n",
    "sns.set(style=\"darkgrid\")\n",
    "pd.set_option(\"display.max_columns\", None)\n",
    "pd.set_option('max_colwidth', 120)\n",
    "pd.set_option('display.width', 500)\n",
    "sns.set(style=\"darkgrid\")\n",
    "\n",
    "# загрузка библиотек для использования машинного обучения\n",
    "\n",
    "from sklearn.preprocessing import StandardScaler\n",
    "import tensorflow as tf\n",
    "import pickle"
   ]
  },
  {
   "cell_type": "markdown",
   "metadata": {},
   "source": [
    "Загружаем новые данные"
   ]
  },
  {
   "cell_type": "code",
   "execution_count": 2,
   "metadata": {},
   "outputs": [],
   "source": [
    "df = pd.read_csv('E:\\EZG\\VIE\\solar_df_test\\solar_df_test.csv')"
   ]
  },
  {
   "cell_type": "code",
   "execution_count": 3,
   "metadata": {},
   "outputs": [
    {
     "data": {
      "text/html": [
       "<div>\n",
       "<style scoped>\n",
       "    .dataframe tbody tr th:only-of-type {\n",
       "        vertical-align: middle;\n",
       "    }\n",
       "\n",
       "    .dataframe tbody tr th {\n",
       "        vertical-align: top;\n",
       "    }\n",
       "\n",
       "    .dataframe thead th {\n",
       "        text-align: right;\n",
       "    }\n",
       "</style>\n",
       "<table border=\"1\" class=\"dataframe\">\n",
       "  <thead>\n",
       "    <tr style=\"text-align: right;\">\n",
       "      <th></th>\n",
       "      <th>load_rate</th>\n",
       "      <th>temp</th>\n",
       "      <th>cloudiness</th>\n",
       "      <th>rainfall_rate</th>\n",
       "      <th>month</th>\n",
       "      <th>hour</th>\n",
       "      <th>rainfall_type_Слабый дождь</th>\n",
       "      <th>rainfall_type_Слабый снег</th>\n",
       "      <th>rainfall_type_Умеренный дождь</th>\n",
       "      <th>rainfall_type_Умеренный снег</th>\n",
       "      <th>rainfall_type_б/о</th>\n",
       "    </tr>\n",
       "    <tr>\n",
       "      <th>date</th>\n",
       "      <th></th>\n",
       "      <th></th>\n",
       "      <th></th>\n",
       "      <th></th>\n",
       "      <th></th>\n",
       "      <th></th>\n",
       "      <th></th>\n",
       "      <th></th>\n",
       "      <th></th>\n",
       "      <th></th>\n",
       "      <th></th>\n",
       "    </tr>\n",
       "  </thead>\n",
       "  <tbody>\n",
       "    <tr>\n",
       "      <th>2023-05-03 05:00:00</th>\n",
       "      <td>0.000000</td>\n",
       "      <td>10.500000</td>\n",
       "      <td>0.200000</td>\n",
       "      <td>0.0</td>\n",
       "      <td>5</td>\n",
       "      <td>5</td>\n",
       "      <td>0</td>\n",
       "      <td>0</td>\n",
       "      <td>0</td>\n",
       "      <td>0</td>\n",
       "      <td>1</td>\n",
       "    </tr>\n",
       "    <tr>\n",
       "      <th>2023-05-03 06:00:00</th>\n",
       "      <td>0.000000</td>\n",
       "      <td>11.166667</td>\n",
       "      <td>0.233333</td>\n",
       "      <td>0.0</td>\n",
       "      <td>5</td>\n",
       "      <td>6</td>\n",
       "      <td>0</td>\n",
       "      <td>0</td>\n",
       "      <td>0</td>\n",
       "      <td>0</td>\n",
       "      <td>1</td>\n",
       "    </tr>\n",
       "    <tr>\n",
       "      <th>2023-05-03 07:00:00</th>\n",
       "      <td>0.052771</td>\n",
       "      <td>11.833333</td>\n",
       "      <td>0.266667</td>\n",
       "      <td>0.0</td>\n",
       "      <td>5</td>\n",
       "      <td>7</td>\n",
       "      <td>0</td>\n",
       "      <td>0</td>\n",
       "      <td>0</td>\n",
       "      <td>0</td>\n",
       "      <td>1</td>\n",
       "    </tr>\n",
       "    <tr>\n",
       "      <th>2023-05-03 08:00:00</th>\n",
       "      <td>0.185693</td>\n",
       "      <td>12.500000</td>\n",
       "      <td>0.300000</td>\n",
       "      <td>0.0</td>\n",
       "      <td>5</td>\n",
       "      <td>8</td>\n",
       "      <td>0</td>\n",
       "      <td>0</td>\n",
       "      <td>0</td>\n",
       "      <td>0</td>\n",
       "      <td>1</td>\n",
       "    </tr>\n",
       "    <tr>\n",
       "      <th>2023-05-03 09:00:00</th>\n",
       "      <td>0.372203</td>\n",
       "      <td>15.033333</td>\n",
       "      <td>0.400000</td>\n",
       "      <td>0.0</td>\n",
       "      <td>5</td>\n",
       "      <td>9</td>\n",
       "      <td>0</td>\n",
       "      <td>0</td>\n",
       "      <td>0</td>\n",
       "      <td>0</td>\n",
       "      <td>1</td>\n",
       "    </tr>\n",
       "  </tbody>\n",
       "</table>\n",
       "</div>"
      ],
      "text/plain": [
       "                     load_rate       temp  cloudiness  rainfall_rate  month  hour  rainfall_type_Слабый дождь  rainfall_type_Слабый снег  rainfall_type_Умеренный дождь  rainfall_type_Умеренный снег  rainfall_type_б/о\n",
       "date                                                                                                                                                                                                                    \n",
       "2023-05-03 05:00:00   0.000000  10.500000    0.200000            0.0      5     5                           0                          0                              0                             0                  1\n",
       "2023-05-03 06:00:00   0.000000  11.166667    0.233333            0.0      5     6                           0                          0                              0                             0                  1\n",
       "2023-05-03 07:00:00   0.052771  11.833333    0.266667            0.0      5     7                           0                          0                              0                             0                  1\n",
       "2023-05-03 08:00:00   0.185693  12.500000    0.300000            0.0      5     8                           0                          0                              0                             0                  1\n",
       "2023-05-03 09:00:00   0.372203  15.033333    0.400000            0.0      5     9                           0                          0                              0                             0                  1"
      ]
     },
     "execution_count": 3,
     "metadata": {},
     "output_type": "execute_result"
    }
   ],
   "source": [
    "features_considered = [\n",
    "         'load_rate',\n",
    "         'temp', \n",
    "         'cloudiness', \n",
    "         'rainfall_rate', \n",
    "         'month', \n",
    "         'hour',\n",
    "         'rainfall_type_Слабый дождь', \n",
    "         'rainfall_type_Слабый снег', \n",
    "         'rainfall_type_Умеренный дождь', \n",
    "         'rainfall_type_Умеренный снег', \n",
    "         'rainfall_type_б/о'\n",
    "       ]\n",
    "df['rainfall_type_Слабый снег'] = 0\n",
    "df['rainfall_type_Умеренный снег'] = 0\n",
    "features = df[features_considered]\n",
    "features.index = df['date']\n",
    "features.head()"
   ]
  },
  {
   "cell_type": "markdown",
   "metadata": {},
   "source": [
    "###  Прогозирование методом LSTM"
   ]
  },
  {
   "cell_type": "code",
   "execution_count": 4,
   "metadata": {},
   "outputs": [],
   "source": [
    "dataset = features.values"
   ]
  },
  {
   "cell_type": "code",
   "execution_count": 5,
   "metadata": {},
   "outputs": [],
   "source": [
    "def multivariate_data(dataset, \n",
    "                      target, \n",
    "                      start_index, \n",
    "                      end_index, \n",
    "                      history_size,\n",
    "                      target_size,\n",
    "                      step, \n",
    "                      single_step=False):\n",
    "    # функция, разбивающая датасет на наборы данных размерностью (42,120,11) и наборы значений цплпвой переменной \n",
    "    # размерностью (42,24).\n",
    "    data = []\n",
    "    labels = []\n",
    "\n",
    "    start_index = start_index + history_size\n",
    "    if end_index is None:\n",
    "        end_index = len(dataset) - target_size\n",
    "\n",
    "    for i in range(start_index, end_index, 24):\n",
    "        indices = range(i-history_size, i, step)\n",
    "        data.append(dataset[indices])\n",
    "\n",
    "        if single_step:\n",
    "            labels.append(target[i+target_size])\n",
    "        else:\n",
    "            labels.append(target[i:i+target_size])\n",
    "\n",
    "    return np.array(data), np.array(labels)"
   ]
  },
  {
   "cell_type": "code",
   "execution_count": 6,
   "metadata": {},
   "outputs": [],
   "source": [
    "past_history = 120\n",
    "future_target = 24\n",
    "TRAIN_SPLIT = 1147\n",
    "STEP = 1\n",
    "x_train_multi, y_train_multi = multivariate_data(dataset, \n",
    "                                                 dataset[:, 0], \n",
    "                                                 19,\n",
    "                                                 TRAIN_SPLIT, \n",
    "                                                 past_history,\n",
    "                                                 future_target, \n",
    "                                                 STEP)"
   ]
  },
  {
   "cell_type": "code",
   "execution_count": 7,
   "metadata": {},
   "outputs": [
    {
     "data": {
      "text/plain": [
       "(42, 120, 11)"
      ]
     },
     "execution_count": 7,
     "metadata": {},
     "output_type": "execute_result"
    }
   ],
   "source": [
    "x_train_multi.shape"
   ]
  },
  {
   "cell_type": "code",
   "execution_count": 8,
   "metadata": {},
   "outputs": [
    {
     "data": {
      "text/plain": [
       "(42, 24)"
      ]
     },
     "execution_count": 8,
     "metadata": {},
     "output_type": "execute_result"
    }
   ],
   "source": [
    "y_train_multi.shape"
   ]
  },
  {
   "cell_type": "markdown",
   "metadata": {},
   "source": [
    "Таким образом, в нашем распоряжении 42 набора данных по 120 последовательных наблюдений 11 параметров. И 42 24-часовых соответстыющих вектора целевой переменной."
   ]
  },
  {
   "cell_type": "code",
   "execution_count": 7,
   "metadata": {},
   "outputs": [],
   "source": [
    "def create_time_steps(length):\n",
    "    return list(range(-length, 0))"
   ]
  },
  {
   "cell_type": "code",
   "execution_count": 8,
   "metadata": {},
   "outputs": [],
   "source": [
    "def multi_step_plot(history, true_future, prediction, title):\n",
    "    plt.figure(figsize=(12, 6))\n",
    "    num_in = create_time_steps(len(history))\n",
    "    num_out = len(true_future)\n",
    "\n",
    "    plt.title(title)\n",
    "    plt.plot(num_in, np.array(history[:, 0]), label='History')\n",
    "    plt.plot(np.arange(num_out)/STEP, np.array(true_future), 'bo',\n",
    "             label='True Future')\n",
    "    if prediction.any():\n",
    "        plt.plot(np.arange(num_out)/STEP, np.array(prediction), 'ro',\n",
    "                 label='Predicted Future')\n",
    "    plt.legend(loc='upper left')\n",
    "    plt.show()"
   ]
  },
  {
   "cell_type": "code",
   "execution_count": 9,
   "metadata": {},
   "outputs": [],
   "source": [
    "def plot_train_history(history, title):\n",
    "    loss = history.history['loss']\n",
    "    val_loss = history.history['val_loss']\n",
    "\n",
    "    epochs = range(len(loss))\n",
    "\n",
    "    plt.figure()\n",
    "\n",
    "    plt.plot(epochs, loss, 'b', label='Training loss')\n",
    "    plt.plot(epochs, val_loss, 'r', label='Validation loss')\n",
    "    plt.title(title)\n",
    "    plt.legend()\n",
    "\n",
    "    plt.show()"
   ]
  },
  {
   "cell_type": "markdown",
   "metadata": {},
   "source": [
    "Загружаем модель"
   ]
  },
  {
   "cell_type": "code",
   "execution_count": 10,
   "metadata": {},
   "outputs": [],
   "source": [
    "multi_step_model = tf.keras.models.load_model('E:\\EZG\\VIE\\solar_lstm\\multi_step_model.h5')"
   ]
  },
  {
   "cell_type": "markdown",
   "metadata": {},
   "source": [
    "Строим предсказание для первого дня из нашего набора"
   ]
  },
  {
   "cell_type": "code",
   "execution_count": 11,
   "metadata": {},
   "outputs": [
    {
     "name": "stdout",
     "output_type": "stream",
     "text": [
      "1/1 [==============================] - 2s 2s/step\n"
     ]
    },
    {
     "data": {
      "image/png": "[encoded data removed]",
      "text/plain": [
       "<Figure size 864x432 with 1 Axes>"
      ]
     },
     "metadata": {
      "needs_background": "light"
     },
     "output_type": "display_data"
    }
   ],
   "source": [
    "day_number = 0\n",
    "plot = multi_step_plot(x_train_multi[day_number], \n",
    "                       y_train_multi[day_number],\n",
    "                       multi_step_model.predict(x_train_multi[day_number].reshape((1,120,11))).reshape(24,), \n",
    "                       'Multi Step Prediction')"
   ]
  },
  {
   "cell_type": "code",
   "execution_count": 12,
   "metadata": {},
   "outputs": [],
   "source": [
    "def mape_function(df):\n",
    "    # функция, вычисляющая MAPE для одних суток\n",
    "    df['MAPE, %'] = 100*abs(df['fact'] - df['prediction'])/df['fact'].max()\n",
    "    return(round(df['MAPE, %'].mean(),2))"
   ]
  },
  {
   "cell_type": "markdown",
   "metadata": {},
   "source": [
    "Строим предсказания для всех 42 дней и отмечаем на графике значение МАРЕ для каждых суток"
   ]
  },
  {
   "cell_type": "code",
   "execution_count": 16,
   "metadata": {},
   "outputs": [
    {
     "name": "stdout",
     "output_type": "stream",
     "text": [
      "1/1 [==============================] - 0s 47ms/step\n",
      "1/1 [==============================] - 0s 62ms/step\n",
      "1/1 [==============================] - 0s 62ms/step\n",
      "1/1 [==============================] - 0s 62ms/step\n",
      "1/1 [==============================] - 0s 62ms/step\n",
      "1/1 [==============================] - 0s 79ms/step\n",
      "1/1 [==============================] - 0s 87ms/step\n",
      "1/1 [==============================] - 0s 82ms/step\n",
      "1/1 [==============================] - 0s 80ms/step\n",
      "1/1 [==============================] - 0s 69ms/step\n",
      "1/1 [==============================] - 0s 62ms/step\n",
      "1/1 [==============================] - 0s 47ms/step\n",
      "1/1 [==============================] - 0s 47ms/step\n",
      "1/1 [==============================] - 0s 87ms/step\n",
      "1/1 [==============================] - 0s 91ms/step\n",
      "1/1 [==============================] - 0s 85ms/step\n",
      "1/1 [==============================] - 0s 47ms/step\n",
      "1/1 [==============================] - 0s 62ms/step\n",
      "1/1 [==============================] - 0s 62ms/step\n",
      "1/1 [==============================] - 0s 62ms/step\n",
      "1/1 [==============================] - 0s 62ms/step\n",
      "1/1 [==============================] - 0s 62ms/step\n",
      "1/1 [==============================] - 0s 62ms/step\n",
      "1/1 [==============================] - 0s 62ms/step\n",
      "1/1 [==============================] - 0s 62ms/step\n",
      "1/1 [==============================] - 0s 62ms/step\n",
      "1/1 [==============================] - 0s 62ms/step\n",
      "1/1 [==============================] - 0s 80ms/step\n",
      "1/1 [==============================] - 0s 62ms/step\n",
      "1/1 [==============================] - 0s 62ms/step\n",
      "1/1 [==============================] - 0s 62ms/step\n",
      "1/1 [==============================] - 0s 62ms/step\n",
      "1/1 [==============================] - 0s 62ms/step\n",
      "1/1 [==============================] - 0s 62ms/step\n",
      "1/1 [==============================] - 0s 74ms/step\n",
      "1/1 [==============================] - 0s 75ms/step\n",
      "1/1 [==============================] - 0s 62ms/step\n",
      "1/1 [==============================] - 0s 94ms/step\n",
      "1/1 [==============================] - 0s 113ms/step\n",
      "1/1 [==============================] - 0s 47ms/step\n",
      "1/1 [==============================] - 0s 62ms/step\n",
      "1/1 [==============================] - 0s 64ms/step\n"
     ]
    },
    {
     "data": {
      "image/png": "[encoded data removed]",
      "text/plain": [
       "<Figure size 576x576 with 2 Axes>"
      ]
     },
     "metadata": {
      "needs_background": "light"
     },
     "output_type": "display_data"
    }
   ],
   "source": [
    "mape_lstm=[]\n",
    "for i in range(42):\n",
    "    predictions = multi_step_model.predict(x_train_multi[i].reshape((1,120,11))).reshape(24,)\n",
    "    results = pd.DataFrame({\"fact\": y_train_multi[i],\n",
    "                            \"prediction\": predictions})\n",
    "    mape_lstm.append(mape_function(results))\n",
    "    \n",
    "sns.jointplot(\n",
    "              data=mape_lstm, \n",
    "              kind='scatter', \n",
    "              height=8, \n",
    "              ratio=2,\n",
    "              marginal_ticks=True   \n",
    "             ).ax_marg_x.remove()   "
   ]
  },
  {
   "cell_type": "markdown",
   "metadata": {},
   "source": [
    "### Прогнозирование методом Random Forest\n",
    "\n",
    "Загружаем модель"
   ]
  },
  {
   "cell_type": "code",
   "execution_count": 21,
   "metadata": {},
   "outputs": [],
   "source": [
    "rfr_model = pickle.load(open(r'E:\\EZG\\VIE\\solar_rfr\\solar_rfr.pickle', 'rb'))"
   ]
  },
  {
   "cell_type": "code",
   "execution_count": 22,
   "metadata": {},
   "outputs": [
    {
     "data": {
      "text/html": [
       "<div>\n",
       "<style scoped>\n",
       "    .dataframe tbody tr th:only-of-type {\n",
       "        vertical-align: middle;\n",
       "    }\n",
       "\n",
       "    .dataframe tbody tr th {\n",
       "        vertical-align: top;\n",
       "    }\n",
       "\n",
       "    .dataframe thead th {\n",
       "        text-align: right;\n",
       "    }\n",
       "</style>\n",
       "<table border=\"1\" class=\"dataframe\">\n",
       "  <thead>\n",
       "    <tr style=\"text-align: right;\">\n",
       "      <th></th>\n",
       "      <th>temp</th>\n",
       "      <th>cloudiness</th>\n",
       "      <th>rainfall_rate</th>\n",
       "      <th>month</th>\n",
       "      <th>hour</th>\n",
       "      <th>rainfall_type_Слабый дождь</th>\n",
       "      <th>rainfall_type_Слабый снег</th>\n",
       "      <th>rainfall_type_Умеренный дождь</th>\n",
       "      <th>rainfall_type_Умеренный снег</th>\n",
       "      <th>rainfall_type_б/о</th>\n",
       "    </tr>\n",
       "    <tr>\n",
       "      <th>date</th>\n",
       "      <th></th>\n",
       "      <th></th>\n",
       "      <th></th>\n",
       "      <th></th>\n",
       "      <th></th>\n",
       "      <th></th>\n",
       "      <th></th>\n",
       "      <th></th>\n",
       "      <th></th>\n",
       "      <th></th>\n",
       "    </tr>\n",
       "  </thead>\n",
       "  <tbody>\n",
       "    <tr>\n",
       "      <th>2023-05-03 05:00:00</th>\n",
       "      <td>10.500000</td>\n",
       "      <td>0.200000</td>\n",
       "      <td>0.0</td>\n",
       "      <td>5</td>\n",
       "      <td>5</td>\n",
       "      <td>0</td>\n",
       "      <td>0</td>\n",
       "      <td>0</td>\n",
       "      <td>0</td>\n",
       "      <td>1</td>\n",
       "    </tr>\n",
       "    <tr>\n",
       "      <th>2023-05-03 06:00:00</th>\n",
       "      <td>11.166667</td>\n",
       "      <td>0.233333</td>\n",
       "      <td>0.0</td>\n",
       "      <td>5</td>\n",
       "      <td>6</td>\n",
       "      <td>0</td>\n",
       "      <td>0</td>\n",
       "      <td>0</td>\n",
       "      <td>0</td>\n",
       "      <td>1</td>\n",
       "    </tr>\n",
       "    <tr>\n",
       "      <th>2023-05-03 07:00:00</th>\n",
       "      <td>11.833333</td>\n",
       "      <td>0.266667</td>\n",
       "      <td>0.0</td>\n",
       "      <td>5</td>\n",
       "      <td>7</td>\n",
       "      <td>0</td>\n",
       "      <td>0</td>\n",
       "      <td>0</td>\n",
       "      <td>0</td>\n",
       "      <td>1</td>\n",
       "    </tr>\n",
       "    <tr>\n",
       "      <th>2023-05-03 08:00:00</th>\n",
       "      <td>12.500000</td>\n",
       "      <td>0.300000</td>\n",
       "      <td>0.0</td>\n",
       "      <td>5</td>\n",
       "      <td>8</td>\n",
       "      <td>0</td>\n",
       "      <td>0</td>\n",
       "      <td>0</td>\n",
       "      <td>0</td>\n",
       "      <td>1</td>\n",
       "    </tr>\n",
       "    <tr>\n",
       "      <th>2023-05-03 09:00:00</th>\n",
       "      <td>15.033333</td>\n",
       "      <td>0.400000</td>\n",
       "      <td>0.0</td>\n",
       "      <td>5</td>\n",
       "      <td>9</td>\n",
       "      <td>0</td>\n",
       "      <td>0</td>\n",
       "      <td>0</td>\n",
       "      <td>0</td>\n",
       "      <td>1</td>\n",
       "    </tr>\n",
       "  </tbody>\n",
       "</table>\n",
       "</div>"
      ],
      "text/plain": [
       "                          temp  cloudiness  rainfall_rate  month  hour  rainfall_type_Слабый дождь  rainfall_type_Слабый снег  rainfall_type_Умеренный дождь  rainfall_type_Умеренный снег  rainfall_type_б/о\n",
       "date                                                                                                                                                                                                         \n",
       "2023-05-03 05:00:00  10.500000    0.200000            0.0      5     5                           0                          0                              0                             0                  1\n",
       "2023-05-03 06:00:00  11.166667    0.233333            0.0      5     6                           0                          0                              0                             0                  1\n",
       "2023-05-03 07:00:00  11.833333    0.266667            0.0      5     7                           0                          0                              0                             0                  1\n",
       "2023-05-03 08:00:00  12.500000    0.300000            0.0      5     8                           0                          0                              0                             0                  1\n",
       "2023-05-03 09:00:00  15.033333    0.400000            0.0      5     9                           0                          0                              0                             0                  1"
      ]
     },
     "execution_count": 22,
     "metadata": {},
     "output_type": "execute_result"
    }
   ],
   "source": [
    "features_considered_rfr = [\n",
    "         #'load_rate',\n",
    "         'temp', \n",
    "         'cloudiness', \n",
    "         'rainfall_rate', \n",
    "         'month', \n",
    "         'hour',\n",
    "         'rainfall_type_Слабый дождь', \n",
    "         'rainfall_type_Слабый снег', \n",
    "         'rainfall_type_Умеренный дождь', \n",
    "         'rainfall_type_Умеренный снег', \n",
    "         'rainfall_type_б/о'\n",
    "       ]\n",
    "\n",
    "features_rfr = df[features_considered_rfr]\n",
    "features_rfr.index = df['date']\n",
    "features_rfr.head()"
   ]
  },
  {
   "cell_type": "code",
   "execution_count": 23,
   "metadata": {},
   "outputs": [],
   "source": [
    "def multivariate_data_rfr(dataset, \n",
    "                          target, \n",
    "                          start_index, \n",
    "                          end_index):\n",
    "    data = []\n",
    "    labels = []\n",
    "\n",
    "\n",
    "    for i in range(start_index, end_index, 24):\n",
    "        indices = range(i, i+24, 1)\n",
    "        data.append(dataset[indices,1:11])\n",
    "        labels.append(target[indices])\n",
    "        \n",
    "    return np.array(data), np.array(labels)\n"
   ]
  },
  {
   "cell_type": "markdown",
   "metadata": {},
   "source": [
    "Разбиваем данные на 42 набора"
   ]
  },
  {
   "cell_type": "code",
   "execution_count": 24,
   "metadata": {},
   "outputs": [],
   "source": [
    "x_train_rfr, y_train_rfr = multivariate_data_rfr(dataset, \n",
    "                                                 dataset[:, 0], \n",
    "                                                 139,\n",
    "                                                 1147)"
   ]
  },
  {
   "cell_type": "markdown",
   "metadata": {},
   "source": [
    "Строим предсказания для первых из 42 суток"
   ]
  },
  {
   "cell_type": "code",
   "execution_count": 26,
   "metadata": {},
   "outputs": [
    {
     "data": {
      "text/plain": [
       "<matplotlib.axes._subplots.AxesSubplot at 0x1b00fc88>"
      ]
     },
     "execution_count": 26,
     "metadata": {},
     "output_type": "execute_result"
    },
    {
     "data": {
      "image/png": "[encoded data removed]",
      "text/plain": [
       "<Figure size 1440x720 with 1 Axes>"
      ]
     },
     "metadata": {
      "needs_background": "light"
     },
     "output_type": "display_data"
    }
   ],
   "source": [
    "ss = StandardScaler()\n",
    "predictions_test = rfr_model.predict(ss.fit_transform(x_train_rfr[0])) \n",
    "results = pd.DataFrame({\"fact\": y_train_rfr[0],\n",
    "                        \"prediction\": predictions_test})\n",
    "fig, ax = plt.subplots(figsize=(20,10)) \n",
    "results.plot(ax = ax)"
   ]
  },
  {
   "cell_type": "markdown",
   "metadata": {},
   "source": [
    "Строим предсказания для всех 42 дней и отмечаем на графике значение МАРЕ для каждых суток"
   ]
  },
  {
   "cell_type": "code",
   "execution_count": 27,
   "metadata": {},
   "outputs": [
    {
     "data": {
      "image/png": "[encoded data removed]",
      "text/plain": [
       "<Figure size 576x576 with 2 Axes>"
      ]
     },
     "metadata": {
      "needs_background": "light"
     },
     "output_type": "display_data"
    }
   ],
   "source": [
    "mape_rfr=[]\n",
    "for i in range(42):\n",
    "    predictions_test = rfr_model.predict(ss.fit_transform(x_train_rfr[i]))\n",
    "    results = pd.DataFrame({\"fact\": y_train_rfr[i],\n",
    "                            \"prediction\": predictions_test})\n",
    "    mape_rfr.append(mape_function(results))\n",
    "    \n",
    "sns.jointplot(\n",
    "              data=mape_rfr, \n",
    "              kind='scatter', \n",
    "              height=8, \n",
    "              ratio=2,\n",
    "              marginal_ticks=True   \n",
    "             ).ax_marg_x.remove()      "
   ]
  },
  {
   "cell_type": "markdown",
   "metadata": {},
   "source": [
    "Строим сравнительный график, на котором отмечаем значения МАРЕ для каждых суток, полученные двумя методами."
   ]
  },
  {
   "cell_type": "code",
   "execution_count": 30,
   "metadata": {},
   "outputs": [],
   "source": [
    "mape = pd.DataFrame({\"mape_lstm\": mape_lstm,\n",
    "                    \"mape_rfr\": mape_rfr})"
   ]
  },
  {
   "cell_type": "code",
   "execution_count": 32,
   "metadata": {},
   "outputs": [
    {
     "name": "stdout",
     "output_type": "stream",
     "text": [
      "На срезе данных длиной 42 дня:\n"
     ]
    },
    {
     "data": {
      "text/html": [
       "<div>\n",
       "<style scoped>\n",
       "    .dataframe tbody tr th:only-of-type {\n",
       "        vertical-align: middle;\n",
       "    }\n",
       "\n",
       "    .dataframe tbody tr th {\n",
       "        vertical-align: top;\n",
       "    }\n",
       "\n",
       "    .dataframe thead th {\n",
       "        text-align: right;\n",
       "    }\n",
       "</style>\n",
       "<table border=\"1\" class=\"dataframe\">\n",
       "  <thead>\n",
       "    <tr style=\"text-align: right;\">\n",
       "      <th></th>\n",
       "      <th>mape_lstm</th>\n",
       "      <th>mape_rfr</th>\n",
       "    </tr>\n",
       "  </thead>\n",
       "  <tbody>\n",
       "    <tr>\n",
       "      <th>count</th>\n",
       "      <td>42.000000</td>\n",
       "      <td>42.000000</td>\n",
       "    </tr>\n",
       "    <tr>\n",
       "      <th>mean</th>\n",
       "      <td>15.042143</td>\n",
       "      <td>11.316190</td>\n",
       "    </tr>\n",
       "    <tr>\n",
       "      <th>std</th>\n",
       "      <td>8.200295</td>\n",
       "      <td>6.074608</td>\n",
       "    </tr>\n",
       "    <tr>\n",
       "      <th>min</th>\n",
       "      <td>10.090000</td>\n",
       "      <td>6.940000</td>\n",
       "    </tr>\n",
       "    <tr>\n",
       "      <th>25%</th>\n",
       "      <td>12.712500</td>\n",
       "      <td>9.475000</td>\n",
       "    </tr>\n",
       "    <tr>\n",
       "      <th>50%</th>\n",
       "      <td>13.610000</td>\n",
       "      <td>10.495000</td>\n",
       "    </tr>\n",
       "    <tr>\n",
       "      <th>75%</th>\n",
       "      <td>14.865000</td>\n",
       "      <td>11.137500</td>\n",
       "    </tr>\n",
       "    <tr>\n",
       "      <th>max</th>\n",
       "      <td>65.310000</td>\n",
       "      <td>48.230000</td>\n",
       "    </tr>\n",
       "  </tbody>\n",
       "</table>\n",
       "</div>"
      ],
      "text/plain": [
       "       mape_lstm   mape_rfr\n",
       "count  42.000000  42.000000\n",
       "mean   15.042143  11.316190\n",
       "std     8.200295   6.074608\n",
       "min    10.090000   6.940000\n",
       "25%    12.712500   9.475000\n",
       "50%    13.610000  10.495000\n",
       "75%    14.865000  11.137500\n",
       "max    65.310000  48.230000"
      ]
     },
     "metadata": {},
     "output_type": "display_data"
    },
    {
     "name": "stdout",
     "output_type": "stream",
     "text": [
      "Среднtt значение ошибки MAPE по методу random forest regressor ниже, чем по методу lstm, то есть random forest regressor показывает более точный результат\n"
     ]
    },
    {
     "data": {
      "image/png": "[encoded data removed]",
      "text/plain": [
       "<Figure size 720x720 with 2 Axes>"
      ]
     },
     "metadata": {
      "needs_background": "light"
     },
     "output_type": "display_data"
    }
   ],
   "source": [
    "sns.jointplot(\n",
    "              data=mape, \n",
    "              kind='scatter', \n",
    "              height=10, \n",
    "              ratio=2,\n",
    "              marginal_ticks=True   \n",
    "             ).ax_marg_x.remove()\n",
    "print('На срезе данных длиной 42 дня:')\n",
    "display(mape.describe())\n",
    "print('Среднtt значение ошибки MAPE по методу random forest regressor ниже, чем по методу lstm, то есть random forest regressor показывает более точный результат')"
   ]
  },
  {
   "cell_type": "markdown",
   "metadata": {},
   "source": [
    "### Вывод:\n",
    "\n",
    "По результатам тестирования двух моделей видно, что средняя относительная ошибка прогнозирования для метода Random Forest оказалась меньше, чем для модели LSTM(11,3% против 15%), то есть прогнозирование методом Random Forest точнее. Поскольку, как видно на рисунке выше, в точности прогнозирования имеются редкие спорадические выбросы, правильнее ориентироваться не на среднее, а на медиану. Поэтому, примем, что в результате нашего исследования мы получили точность прогноза 10,5%.\n",
    "\n",
    "Более совершенный и сложный метод LSTM не обеспечил более точного результата. Причина этому кроется, вероятнее всего, в особенностях конкретных данных. Как было сказано выше, данный метод работает хорошо при прогнозировании непрерывной во времени изменяющейся величины, где каждое последующее значение зависит от предшествующих, где есть повторяющиеся тренды на коротких и длинных периодах.\n",
    "\n",
    "В нашей задаче рассматривается величина генерации солнечных станций, которая такими свойствами не обладает. Как было сказано выше, определяющий фактор здесь – освещенность, а она может носить абсолютно непредсказуемый характер – условно, если 2 или 3 предыдущих дня были солнечными, вовсе не означает, что следующий день будет солнечным. В данном случае при прогнозировании правильнее опираться на прогнозные метеоданные, чем на статистику последних дней. \n",
    "\n",
    "Полученная величина MAРE равная 10,5% - достаточно велика. Причины такой высокой погрешности вероятнее всего в том, что прогноз строится не на основании точных и безусловных данных, а на прогнозных метеофакторах, которые, как известно, тоже весьма неточны.\n",
    "Тем не менее, данное исследование показало, что нагрузку солнечных станций можно прогнозировать с определенной точностью, вероятно, достаточной для практического применения.    \n"
   ]
  }
 ],
 "metadata": {
  "kernelspec": {
   "display_name": "Python 3",
   "language": "python",
   "name": "python3"
  },
  "language_info": {
   "codemirror_mode": {
    "name": "ipython",
    "version": 3
   },
   "file_extension": ".py",
   "mimetype": "text/x-python",
   "name": "python",
   "nbconvert_exporter": "python",
   "pygments_lexer": "ipython3",
   "version": "3.7.3"
  },
  "toc": {
   "base_numbering": 1,
   "nav_menu": {},
   "number_sections": true,
   "sideBar": true,
   "skip_h1_title": true,
   "title_cell": "Table of Contents",
   "title_sidebar": "Contents",
   "toc_cell": true,
   "toc_position": {},
   "toc_section_display": true,
   "toc_window_display": true
  }
 },
 "nbformat": 4,
 "nbformat_minor": 2
}
